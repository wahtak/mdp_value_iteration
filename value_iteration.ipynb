{
 "cells": [
  {
   "cell_type": "code",
   "execution_count": null,
   "metadata": {},
   "outputs": [],
   "source": [
    "import numpy as np\n",
    "import matplotlib.pyplot as plt\n",
    "from matplotlib.colors import Normalize"
   ]
  },
  {
   "cell_type": "code",
   "execution_count": null,
   "metadata": {},
   "outputs": [],
   "source": [
    "movable = np.array(\n",
    "        [[1, 1, 1, 1],\n",
    "         [1, 0, 1, 1],\n",
    "         [1, 1, 1, 1]]\n",
    "    ).astype(np.bool)\n",
    "\n",
    "rewards = np.array(\n",
    "        [[0, 0, 0, 1],\n",
    "         [0, 0, 0, -100],\n",
    "         [0, 0, 0, 0]]\n",
    "    ).astype(np.float)\n",
    "\n",
    "actions = np.array([\n",
    "    {(0, 0): 1},\n",
    "    {(0, -1): 0.8, (-1, 0): 0.1, (1, 0): 0.1},\n",
    "    {(0, 1): 0.8, (-1, 0): 0.1, (1, 0): 0.1},\n",
    "    {(-1, 0): 0.8, (0, -1): 0.1, (0, 1): 0.1}, \n",
    "    {(1, 0): 0.8, (0, -1): 0.1, (0, 1): 0.1}\n",
    "])\n",
    "\n",
    "action_label = np.array(['o', '<', '>', '^', 'v', ' '])\n",
    "gamma = 0.8"
   ]
  },
  {
   "cell_type": "code",
   "execution_count": null,
   "metadata": {},
   "outputs": [],
   "source": [
    "def new_pos(pos, move):\n",
    "    return tuple(np.array(pos) + np.array(move))\n",
    "\n",
    "def valid_move(pos, move, movable):\n",
    "    return new_pos(pos, move) in np.ndindex(value.shape) \\\n",
    "        and movable[new_pos(pos, move)]\n",
    "\n",
    "def valid_pos(pos, movable):\n",
    "    return movable[pos]\n",
    "\n",
    "def action_value(pos, action, movable):\n",
    "    return np.sum([\n",
    "        value[new_pos(pos, move)] * probability\n",
    "        for move, probability in action.items()\n",
    "        if valid_move(pos, move, movable)\n",
    "    ])\n",
    "\n",
    "def calc_new_value(pos, value, movable):\n",
    "    return rewards[pos] + gamma * np.max([\n",
    "        action_value(pos, action, movable)\n",
    "        for action in actions\n",
    "        if valid_pos(pos, movable)\n",
    "    ], initial=np.NINF)"
   ]
  },
  {
   "cell_type": "code",
   "execution_count": null,
   "metadata": {
    "scrolled": true
   },
   "outputs": [],
   "source": [
    "value = np.zeros_like(rewards)\n",
    "for _ in range(10):\n",
    "    new_value = np.zeros_like(value)\n",
    "    for pos in np.ndindex(value.shape):\n",
    "        new_value[pos] = calc_new_value(pos, value, movable)\n",
    "    value = new_value\n",
    "    print(value)\n",
    "    plt.imshow(value, norm=Normalize(-0.1, 4))\n",
    "    plt.show()"
   ]
  },
  {
   "cell_type": "code",
   "execution_count": null,
   "metadata": {},
   "outputs": [],
   "source": [
    "def calc_best_action(pos, value, movable):\n",
    "    return np.argmax([\n",
    "        action_value(pos, action, movable)\n",
    "        for action in actions\n",
    "    ]) if valid_pos(pos, movable) else -1"
   ]
  },
  {
   "cell_type": "code",
   "execution_count": null,
   "metadata": {},
   "outputs": [],
   "source": [
    "plt.imshow(value, norm=Normalize(-0.5, 4))\n",
    "best_action = np.zeros_like(value).astype(np.int)\n",
    "for pos in np.ndindex(value.shape):\n",
    "    best_action[pos] = calc_best_action(pos, value, movable)\n",
    "    plt.text(pos[1], pos[0], action_label[best_action[pos]])"
   ]
  }
 ],
 "metadata": {
  "kernelspec": {
   "display_name": "Python 3",
   "language": "python",
   "name": "python3"
  },
  "language_info": {
   "codemirror_mode": {
    "name": "ipython",
    "version": 3
   },
   "file_extension": ".py",
   "mimetype": "text/x-python",
   "name": "python",
   "nbconvert_exporter": "python",
   "pygments_lexer": "ipython3",
   "version": "3.7.1"
  }
 },
 "nbformat": 4,
 "nbformat_minor": 2
}
