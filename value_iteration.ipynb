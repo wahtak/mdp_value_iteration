{
 "cells": [
  {
   "cell_type": "code",
   "execution_count": null,
   "metadata": {},
   "outputs": [],
   "source": [
    "import numpy as np"
   ]
  },
  {
   "cell_type": "code",
   "execution_count": null,
   "metadata": {},
   "outputs": [],
   "source": [
    "movable = np.array(\n",
    "    [[1, 0, 0, 0, 0, 0, 1],\n",
    "     [1, 0, 0, 0, 0, 0, 1],\n",
    "     [1, 1, 1, 1, 1, 1, 1],\n",
    "     [0, 0, 0, 1, 0, 0, 0],\n",
    "     [0, 0, 0, 1, 0, 0, 0],\n",
    "     [0, 0, 0, 1, 0, 0, 0],\n",
    "     [0, 0, 0, 1, 1, 1, 1]]).astype(np.bool)\n",
    "\n",
    "rewards = np.array(\n",
    "    [[ 100,  0,  0,  0,  0,  0,  0],\n",
    "     [-1,  0,  0,  0,  0,  0, -1],\n",
    "     [-1, -1, -1, -1, -1, -1, -1],\n",
    "     [ 0,  0,  0, -1,  0,  0,  0],\n",
    "     [ 0,  0,  0, -1,  0,  0,  0],\n",
    "     [ 0,  0,  0, -1,  0,  0,  0],\n",
    "     [ 0,  0,  0, -1, -1, -1, -1]]).astype(np.float)\n",
    "\n",
    "pos = np.array([3, 3])\n",
    "\n",
    "value = np.zeros((7, 7))\n",
    "\n",
    "actions = np.array([[0, 0], [0, -1], [0, 1], [-1, 0], [1, 0]])"
   ]
  },
  {
   "cell_type": "code",
   "execution_count": null,
   "metadata": {},
   "outputs": [],
   "source": [
    "def rewards_for_actions_at(pos, value):\n",
    "    return [rewards[tuple(pos + a)] + value[tuple(pos + a)] for a in actions if np.all(pos + a >= 0) and np.all(pos + a < 7) and get_at(movable, pos + a) and get_at(movable, pos)]"
   ]
  },
  {
   "cell_type": "code",
   "execution_count": null,
   "metadata": {},
   "outputs": [],
   "source": [
    "for _ in range(10):\n",
    "    new_value = np.zeros_like(value)\n",
    "    for pos in np.ndindex(value.shape):\n",
    "        new_value[pos] = np.max(rewards_for_actions_at(pos, value), initial=np.NINF)\n",
    "    value = new_value\n",
    "    print(value)\n",
    "    print()"
   ]
  },
  {
   "cell_type": "code",
   "execution_count": null,
   "metadata": {},
   "outputs": [],
   "source": []
  },
  {
   "cell_type": "code",
   "execution_count": null,
   "metadata": {},
   "outputs": [],
   "source": [
    "movable"
   ]
  },
  {
   "cell_type": "code",
   "execution_count": null,
   "metadata": {},
   "outputs": [],
   "source": [
    "help(np)"
   ]
  },
  {
   "cell_type": "code",
   "execution_count": null,
   "metadata": {},
   "outputs": [],
   "source": []
  }
 ],
 "metadata": {
  "kernelspec": {
   "display_name": "Python 3",
   "language": "python",
   "name": "python3"
  },
  "language_info": {
   "codemirror_mode": {
    "name": "ipython",
    "version": 3
   },
   "file_extension": ".py",
   "mimetype": "text/x-python",
   "name": "python",
   "nbconvert_exporter": "python",
   "pygments_lexer": "ipython3",
   "version": "3.7.1"
  }
 },
 "nbformat": 4,
 "nbformat_minor": 2
}
