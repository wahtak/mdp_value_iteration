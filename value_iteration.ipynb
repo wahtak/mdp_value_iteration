{
 "cells": [
  {
   "cell_type": "code",
   "execution_count": null,
   "metadata": {},
   "outputs": [],
   "source": [
    "import numpy as np\n",
    "import matplotlib.pyplot as plt"
   ]
  },
  {
   "cell_type": "code",
   "execution_count": null,
   "metadata": {},
   "outputs": [],
   "source": [
    "movable = np.array(\n",
    "        [[1, 0, 0, 0, 0, 0, 1],\n",
    "         [1, 0, 0, 0, 0, 0, 1],\n",
    "         [1, 1, 1, 1, 1, 1, 1],\n",
    "         [0, 0, 0, 1, 0, 0, 0],\n",
    "         [0, 0, 0, 1, 0, 0, 0],\n",
    "         [0, 0, 0, 1, 0, 0, 0],\n",
    "         [0, 0, 0, 1, 1, 1, 1]]\n",
    "    ).astype(np.bool)\n",
    "\n",
    "rewards = np.array(\n",
    "        [[ 100,    0,    0,    0,    0,    0, -100],\n",
    "         [  -1,    0,    0,    0,    0,    0,   -1],\n",
    "         [  -1,   -1,   -1,   -1,   -1,   -1,   -1],\n",
    "         [   0,    0,    0,   -1,    0,    0,    0],\n",
    "         [   0,    0,    0,   -1,    0,    0,    0],\n",
    "         [   0,    0,    0,   -1,    0,    0,    0],\n",
    "         [   0,    0,    0,   -1,   -1,   -1,   -1]]\n",
    "    ).astype(np.float)\n",
    "\n",
    "pos = np.array([3, 3])\n",
    "actions = np.array([[0, 0], [0, -1], [0, 1], [-1, 0], [1, 0]])\n",
    "gamma = 0.8"
   ]
  },
  {
   "cell_type": "code",
   "execution_count": null,
   "metadata": {},
   "outputs": [],
   "source": [
    "def calc_new_value(pos, value):\n",
    "    return gamma * np.max(\n",
    "        [\n",
    "            rewards[tuple(pos + a)] + value[tuple(pos + a)]\n",
    "                for a in actions\n",
    "                if np.all(pos + a >= 0)\n",
    "                    and np.all(pos + a < 7)\n",
    "                    and movable[tuple(pos + a)]\n",
    "                    and movable[tuple(pos)]\n",
    "        ], initial=np.NINF)"
   ]
  },
  {
   "cell_type": "code",
   "execution_count": null,
   "metadata": {
    "scrolled": true
   },
   "outputs": [],
   "source": [
    "value = np.zeros((7, 7))\n",
    "for _ in range(20):\n",
    "    new_value = np.zeros_like(value)\n",
    "    for pos in np.ndindex(value.shape):\n",
    "        new_value[pos] = calc_new_value(pos, value)\n",
    "    value = new_value\n",
    "    plt.imshow(value)\n",
    "    plt.show()"
   ]
  },
  {
   "cell_type": "code",
   "execution_count": null,
   "metadata": {},
   "outputs": [],
   "source": []
  }
 ],
 "metadata": {
  "kernelspec": {
   "display_name": "Python 3",
   "language": "python",
   "name": "python3"
  },
  "language_info": {
   "codemirror_mode": {
    "name": "ipython",
    "version": 3
   },
   "file_extension": ".py",
   "mimetype": "text/x-python",
   "name": "python",
   "nbconvert_exporter": "python",
   "pygments_lexer": "ipython3",
   "version": "3.7.1"
  }
 },
 "nbformat": 4,
 "nbformat_minor": 2
}
